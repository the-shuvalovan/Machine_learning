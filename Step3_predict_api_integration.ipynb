{
  "nbformat": 4,
  "nbformat_minor": 0,
  "metadata": {
    "colab": {
      "provenance": []
    },
    "kernelspec": {
      "name": "python3",
      "display_name": "Python 3"
    },
    "language_info": {
      "name": "python"
    }
  },
  "cells": [
    {
      "cell_type": "markdown",
      "source": [
        "##Проверка работоспособности api\n",
        "\n"
      ],
      "metadata": {
        "id": "2X_v4bUytFem"
      }
    },
    {
      "cell_type": "code",
      "source": [
        "import pandas as pd\n",
        "from sklearn.metrics import roc_auc_score,roc_curve,scorer\n",
        "from urllib import request, parse\n",
        "\n",
        "X_test = pd.read_csv(\"X_test.csv\")\n",
        "y_test = pd.read_csv(\"y_test.csv\")"
      ],
      "metadata": {
        "id": "7jGNmRLntLwH"
      },
      "execution_count": null,
      "outputs": []
    },
    {
      "cell_type": "code",
      "source": [
        "X_test[['description', 'company_profile', 'benefits']].head(3)"
      ],
      "metadata": {
        "id": "vgyiX_E0tN0M"
      },
      "execution_count": null,
      "outputs": []
    },
    {
      "cell_type": "code",
      "source": [
        "import urllib.request\n",
        "import json      \n",
        "\n",
        "\n",
        "def get_prediction(x):\n",
        "    description, company_profile, benefits = x\n",
        "    body = {'description': description, \n",
        "            'company_profile': company_profile,\n",
        "            'benefits': benefits\n",
        "            } \n",
        "\n",
        "    myurl = \"http://0.0.0.0:8180/predict\"\n",
        "    req = urllib.request.Request(myurl)\n",
        "    req.add_header('Content-Type', 'application/json; charset=utf-8')\n",
        "    jsondata = json.dumps(body)\n",
        "    jsondataasbytes = jsondata.encode('utf-8')   # needs to be bytes\n",
        "    req.add_header('Content-Length', len(jsondataasbytes))\n",
        "    #print (jsondataasbytes)\n",
        "    response = urllib.request.urlopen(req, jsondataasbytes)\n",
        "    return json.loads(response.read())['predictions']"
      ],
      "metadata": {
        "id": "JHgH9GQktPPq"
      },
      "execution_count": null,
      "outputs": []
    },
    {
      "cell_type": "code",
      "source": [
        "#get_prediction(1,10,1,1)"
      ],
      "metadata": {
        "id": "ivdNqnZ_tTUe"
      },
      "execution_count": null,
      "outputs": []
    },
    {
      "cell_type": "code",
      "source": [
        "%%time\n",
        "predictions = X_test[['description', 'company_profile', \n",
        "                      'benefits']].iloc[:500].apply(lambda x: get_prediction(x), 1)"
      ],
      "metadata": {
        "id": "xG5L0IL5tPWb"
      },
      "execution_count": null,
      "outputs": []
    },
    {
      "cell_type": "code",
      "source": [
        "predictions"
      ],
      "metadata": {
        "id": "1G8Y1SCxtWnx"
      },
      "execution_count": null,
      "outputs": []
    },
    {
      "cell_type": "code",
      "source": [
        "roc_auc_score(y_score=predictions.values, y_true=y_test.iloc[:500])"
      ],
      "metadata": {
        "id": "ArMAXA6duxpm"
      },
      "execution_count": null,
      "outputs": []
    },
    {
      "cell_type": "code",
      "source": [
        "#X_test[['description', 'company_profile', 'benefits']].head(3)"
      ],
      "metadata": {
        "id": "u2dcnmCXuzBZ"
      },
      "execution_count": null,
      "outputs": []
    },
    {
      "cell_type": "code",
      "source": [
        "get_prediction((\"\", None, None))"
      ],
      "metadata": {
        "id": "YPxpzBMyu06z"
      },
      "execution_count": null,
      "outputs": []
    },
    {
      "cell_type": "code",
      "source": [
        "get_prediction((\"\", \"\", \"\"))"
      ],
      "metadata": {
        "id": "7Apsjxqsu2KV"
      },
      "execution_count": null,
      "outputs": []
    }
  ]
}