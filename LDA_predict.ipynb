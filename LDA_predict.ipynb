{
  "nbformat": 4,
  "nbformat_minor": 0,
  "metadata": {
    "colab": {
      "provenance": []
    },
    "kernelspec": {
      "name": "python3",
      "display_name": "Python 3"
    },
    "language_info": {
      "name": "python"
    }
  },
  "cells": [
    {
      "cell_type": "code",
      "source": [
        "!pip install pymorphy2"
      ],
      "metadata": {
        "id": "dKMvIDP5rqSX"
      },
      "execution_count": null,
      "outputs": []
    },
    {
      "cell_type": "code",
      "source": [
        "import pandas as pd\n",
        "import dill\n",
        "dill._dill._reverse_typemap['ClassType'] = type\n",
        "import cloudpickle\n",
        "from urllib import request, parse\n",
        "\n",
        "import re\n",
        "from pymorphy2 import MorphAnalyzer\n",
        "from nltk.corpus import names\n",
        "import nltk; nltk.download('stopwords')\n",
        "# NLTK Stop words\n",
        "from nltk.corpus import stopwords\n",
        "import numpy as np"
      ],
      "metadata": {
        "id": "Oymyoka0rPpG"
      },
      "execution_count": null,
      "outputs": []
    },
    {
      "cell_type": "code",
      "source": [
        "import urllib.request\n",
        "import json      \n",
        "\n",
        "def get_prediction(mesTExt):\n",
        "    body = {'mesTExt': mesTExt} \n",
        "\n",
        "    myurl = \"http://localhost:5000/api/predict\"\n",
        "    req = urllib.request.Request(myurl)\n",
        "    req.add_header('Content-Type', 'application/json; charset=utf-8')\n",
        "    jsondata = json.dumps(body)\n",
        "    jsondataasbytes = jsondata.encode('utf-8')   # needs to be bytes\n",
        "    req.add_header('Content-Length', len(jsondataasbytes))\n",
        "    #print (jsondataasbytes)\n",
        "    response = urllib.request.urlopen(req, jsondataasbytes)  \n",
        "    return json.loads(response.read())"
      ],
      "metadata": {
        "id": "mhlpX8q3rQIx"
      },
      "execution_count": 4,
      "outputs": []
    },
    {
      "cell_type": "code",
      "source": [
        "get_prediction(\"_\")"
      ],
      "metadata": {
        "id": "S1HLjRRKsbs6"
      },
      "execution_count": null,
      "outputs": []
    },
    {
      "cell_type": "code",
      "source": [
        "with open('./api/models/lda_pipeline.dill', 'rb') as in_strm:\n",
        "    model = dill.load(in_strm)"
      ],
      "metadata": {
        "id": "7N4XVj_Or9ts"
      },
      "execution_count": null,
      "outputs": []
    },
    {
      "cell_type": "code",
      "source": [
        "pd.DataFrame({\"mesTExt\": [\"_\"]}))"
      ],
      "metadata": {
        "id": "KwqNgKzisjW9"
      },
      "execution_count": null,
      "outputs": []
    },
    {
      "cell_type": "code",
      "source": [
        "preds = model.transform(pd.DataFrame({\"mesTExt\": [\"_\"]}))"
      ],
      "metadata": {
        "id": "XjaB0bepsl50"
      },
      "execution_count": null,
      "outputs": []
    },
    {
      "cell_type": "code",
      "source": [
        "np.argmax(preds, axis=1)[0]"
      ],
      "metadata": {
        "id": "eV9hoxDksqpn"
      },
      "execution_count": null,
      "outputs": []
    },
    {
      "cell_type": "code",
      "source": [
        "preds"
      ],
      "metadata": {
        "id": "uJubGBksssF2"
      },
      "execution_count": null,
      "outputs": []
    }
  ]
}