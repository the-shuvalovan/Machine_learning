{
  "nbformat": 4,
  "nbformat_minor": 0,
  "metadata": {
    "colab": {
      "provenance": []
    },
    "kernelspec": {
      "name": "python3",
      "display_name": "Python 3"
    },
    "language_info": {
      "name": "python"
    }
  },
  "cells": [
    {
      "cell_type": "markdown",
      "source": [
        "##Обучение пайплайна\n",
        "\n",
        "- Загрузим данные https://www.kaggle.com/shivamb/real-or-fake-fake-jobposting-prediction\n",
        "- Соберем пайплайн с простейшим препроцессингом (tfidf) на текстовых данных\n",
        "- Обучим логистическую регрессию и сохраним на диск предобученный пайплайн"
      ],
      "metadata": {
        "id": "2X_v4bUytFem"
      }
    },
    {
      "cell_type": "code",
      "source": [
        "import pandas as pd\n",
        "import dill\n",
        "import numpy as np\n",
        "from sklearn.model_selection import train_test_split\n",
        "from sklearn.base import BaseEstimator, TransformerMixin\n",
        "from sklearn.linear_model import LogisticRegression\n",
        "from sklearn.metrics import confusion_matrix,accuracy_score,classification_report\n",
        "from sklearn.metrics import roc_auc_score,roc_curve,scorer\n",
        "from sklearn.metrics import f1_score\n",
        "#working with text\n",
        "from sklearn.feature_extraction.text import TfidfVectorizer\n",
        "#normalizing data\n",
        "from sklearn.preprocessing import StandardScaler\n",
        "#pipeline\n",
        "from sklearn.pipeline import Pipeline, FeatureUnion\n",
        "from sklearn.metrics import precision_score,recall_score\n",
        "#imputer\n",
        "from sklearn.impute import SimpleImputer\n",
        "\n",
        "import sklearn.datasets"
      ],
      "metadata": {
        "id": "7jGNmRLntLwH"
      },
      "execution_count": null,
      "outputs": []
    },
    {
      "cell_type": "code",
      "source": [
        "df = pd.read_csv(\"./fake_job_postings.csv\")\n",
        "df.head(3)"
      ],
      "metadata": {
        "id": "vgyiX_E0tN0M"
      },
      "execution_count": null,
      "outputs": []
    },
    {
      "cell_type": "code",
      "source": [
        "X_train, X_test, y_train, y_test = train_test_split(df, \n",
        "                                                    df['fraudulent'], test_size=0.33, random_state=42)\n",
        "#save test\n",
        "X_test.to_csv(\"X_test.csv\", index=None)\n",
        "y_test.to_csv(\"y_test.csv\", index=None)\n",
        "#save train\n",
        "X_train.to_csv(\"X_train.csv\", index=None)\n",
        "y_train.to_csv(\"y_train.csv\", index=None)"
      ],
      "metadata": {
        "id": "JHgH9GQktPPq"
      },
      "execution_count": null,
      "outputs": []
    },
    {
      "cell_type": "code",
      "source": [
        "class ColumnSelector(BaseEstimator, TransformerMixin):\n",
        "    \"\"\"\n",
        "    Transformer to select a single column from the data frame to perform additional transformations on\n",
        "    \"\"\"\n",
        "    def __init__(self, key):\n",
        "        self.key = key\n",
        "\n",
        "    def fit(self, X, y=None):\n",
        "        return self\n",
        "\n",
        "    def transform(self, X):\n",
        "        return X[self.key]\n",
        "    \n",
        "class TextImputer(BaseEstimator, TransformerMixin):\n",
        "    def __init__(self, key, value):\n",
        "        self.key = key\n",
        "        self.value = value\n",
        "    def fit(self, X, y=None):\n",
        "        return self\n",
        "    def transform(self, X):\n",
        "        X[self.key] = X[self.key].fillna(self.value)\n",
        "        return X"
      ],
      "metadata": {
        "id": "ivdNqnZ_tTUe"
      },
      "execution_count": null,
      "outputs": []
    },
    {
      "cell_type": "code",
      "source": [
        "features = ['description', 'company_profile', 'benefits']\n",
        "target = 'fraudulent'"
      ],
      "metadata": {
        "id": "xG5L0IL5tPWb"
      },
      "execution_count": null,
      "outputs": []
    },
    {
      "cell_type": "code",
      "source": [
        "#combine\n",
        "description = Pipeline([\n",
        "                ('imputer', TextImputer('description', '')),\n",
        "                ('selector', ColumnSelector(key='description')),\n",
        "                ('tfidf', TfidfVectorizer(max_df=0.9, min_df=10))\n",
        "            ])\n",
        "company_profile = Pipeline([\n",
        "                ('imputer', TextImputer('company_profile', '')),\n",
        "                ('selector', ColumnSelector(key='company_profile')),\n",
        "                ('tfidf', TfidfVectorizer(max_df=0.9, min_df=10))\n",
        "            ])\n",
        "benefits = Pipeline([\n",
        "                ('imputer', TextImputer('benefits', '')),\n",
        "                ('selector', ColumnSelector(key='benefits')),\n",
        "                ('tfidf', TfidfVectorizer(max_df=0.9, min_df=10))\n",
        "            ])\n",
        "\n",
        "feats = FeatureUnion([('description', description),\n",
        "                      ('company_profile', company_profile),\n",
        "                      ('benefits', benefits)])"
      ],
      "metadata": {
        "id": "1G8Y1SCxtWnx"
      },
      "execution_count": null,
      "outputs": []
    },
    {
      "cell_type": "code",
      "source": [
        "%%time\n",
        "\n",
        "pipeline = Pipeline([\n",
        "    ('features',feats),\n",
        "    ('classifier', LogisticRegression()),\n",
        "])\n",
        "\n",
        "pipeline.fit(X_train, y_train)"
      ],
      "metadata": {
        "id": "pNTInePJtYbs"
      },
      "execution_count": null,
      "outputs": []
    },
    {
      "cell_type": "code",
      "source": [
        "pipeline.steps"
      ],
      "metadata": {
        "id": "kpY00oPYtaCp"
      },
      "execution_count": null,
      "outputs": []
    },
    {
      "cell_type": "code",
      "source": [
        "with open(\"logreg_pipeline.dill\", \"wb\") as f:\n",
        "    dill.dump(pipeline, f)"
      ],
      "metadata": {
        "id": "OH8kRrL4tb7Q"
      },
      "execution_count": null,
      "outputs": []
    }
  ]
}