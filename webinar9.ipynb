{
  "cells": [
    {
      "cell_type": "markdown",
      "metadata": {
        "id": "kPez9onJqk5v"
      },
      "source": [
        "### Урок 9. #Интеграция. Итоговый проект#"
      ]
    },
    {
      "cell_type": "markdown",
      "metadata": {
        "id": "l0CBV1YVqk5y"
      },
      "source": [
        "Программа урока:\n",
        "1. Теоретическая часть:\n",
        "    - Вспоминаем “типовой” процесс построения модели машинного обучения \n",
        "    - Этапы “обучение” и “предсказание”\n",
        "    - Введение в json и rest\n",
        "2. Практическая часть:\n",
        "    - Создание проекта: venv, pycharm, github\n",
        "    - Обзор фреймворка flask\n",
        "    - Создаем проект, первый запуск\n",
        "    - Логгируем обращения к сервису\n",
        "    - Настраиваем тестирование\n",
        "    - Настраиваем мониторинг\n",
        "    - Коммитим и пушим изменения в git"
      ]
    },
    {
      "cell_type": "markdown",
      "metadata": {
        "id": "gOimoeuuqk50"
      },
      "source": [
        "#### 1. \"Типовой\" процесс построения модели"
      ]
    },
    {
      "cell_type": "markdown",
      "metadata": {
        "id": "CGNLGZ0Bqk51"
      },
      "source": [
        "![crisp1](crisp1.png \"CRISP ML\")"
      ]
    },
    {
      "cell_type": "markdown",
      "metadata": {
        "id": "J2xTpzq0qk52"
      },
      "source": [
        "Также нужно понимать разницу между этапом обучения и предсказания"
      ]
    },
    {
      "cell_type": "markdown",
      "metadata": {
        "id": "E8t6E8xUqk53"
      },
      "source": [
        "![typical_ml](typical_ml.png \"'Typical' ML\")"
      ]
    },
    {
      "cell_type": "markdown",
      "metadata": {
        "id": "IlOx_SQbqk53"
      },
      "source": [
        "Если говорить проще, то обучение модели - маленькая (пусть и важная) часть процесса решения конкретной бизнес-задачи"
      ]
    },
    {
      "cell_type": "markdown",
      "metadata": {
        "id": "5PRwoCD6qk54"
      },
      "source": [
        "Сама по себе обученная модель бесполезна, если нет возможности с ней взаимодействовать"
      ]
    },
    {
      "cell_type": "markdown",
      "metadata": {
        "id": "bP_TlsP_qk55"
      },
      "source": [
        "Здесь бывает два варианта:\n",
        "\n",
        "1. модель запускается периодически, чтобы сделать прогнозы, которые затем сохраняются куда-то для дальнейшей работы (\"асинхронный\" режим)\n",
        "2. модель должна работать в режиме \"реального времени\""
      ]
    },
    {
      "cell_type": "markdown",
      "metadata": {
        "id": "UM_UQGpcqk56"
      },
      "source": [
        "Какой вариант будет - зависит от потребностей бизнеса. И в завивисимости от выбранного варианта отличаются также и инструменты работы с моделью"
      ]
    },
    {
      "cell_type": "markdown",
      "metadata": {
        "id": "cdnl-Tj7qk57"
      },
      "source": [
        "В общем виде процесс \"выкатывания\" модели в прод может выглядеть так:"
      ]
    },
    {
      "cell_type": "markdown",
      "metadata": {
        "id": "mzuDOBGoqk57"
      },
      "source": [
        "![ab_split](prod1.png \"Production ML\")"
      ]
    },
    {
      "cell_type": "markdown",
      "metadata": {
        "id": "IIzrWHRKqk58"
      },
      "source": [
        "Этап Model Deployment может быть очень сложным и нетривиальным во всем процессе (по сравнению с этапом обучения модели и подготовки данных)."
      ]
    },
    {
      "cell_type": "markdown",
      "metadata": {
        "id": "x4jP3jYIqk58"
      },
      "source": [
        "#### Пример реализации проекта"
      ]
    },
    {
      "cell_type": "markdown",
      "metadata": {
        "id": "GzLDWPMeqk59"
      },
      "source": [
        "![ab_split](docker_flask.png \"Docker ML\")"
      ]
    },
    {
      "cell_type": "markdown",
      "metadata": {
        "id": "RryEdvW9qk59"
      },
      "source": [
        "https://hackmd.io/@AndreyPhys/flask-ml-api#/"
      ]
    },
    {
      "cell_type": "markdown",
      "metadata": {
        "id": "tfuH2Y3mqk59"
      },
      "source": [
        "### REST API"
      ]
    },
    {
      "cell_type": "markdown",
      "metadata": {
        "id": "zTFgDb9Dqk5-"
      },
      "source": [
        "![restapi](restapi.png \"REST API\")"
      ]
    },
    {
      "cell_type": "markdown",
      "metadata": {
        "id": "21S9qKmQqk5-"
      },
      "source": [
        "### JSON"
      ]
    },
    {
      "cell_type": "markdown",
      "metadata": {
        "id": "UkQ-An9Yqk5_"
      },
      "source": [
        "![json](json.png \"JSON\")"
      ]
    },
    {
      "cell_type": "markdown",
      "metadata": {
        "id": "koX65MfTqk6A"
      },
      "source": [
        "### Что может понадобиться для проекта"
      ]
    },
    {
      "cell_type": "markdown",
      "metadata": {
        "id": "YvYPtGCrqk6A"
      },
      "source": [
        "- среда разработки (например, Pycharm)\n",
        "- docker \n",
        "- python + requirements.txt (содержит зависимости)\n",
        "- знания по ML"
      ]
    },
    {
      "cell_type": "markdown",
      "metadata": {
        "id": "tLUW6xDBqk6B"
      },
      "source": [
        "Как вытащить зависимости в python:\n",
        "\n",
        "<b>pip freeze > requirements.txt</b>"
      ]
    },
    {
      "cell_type": "markdown",
      "metadata": {
        "id": "uW875eKjqk6C"
      },
      "source": [
        "### Docker"
      ]
    },
    {
      "cell_type": "markdown",
      "metadata": {
        "id": "rdaaa9qkqk6D"
      },
      "source": [
        "- платформа, которая максимально упрощает процесс сборки, запуска, управления и масштабирования приложений\n",
        "- виртуализация ОС, на которой запущен\n",
        "- написан на языке Go"
      ]
    },
    {
      "cell_type": "markdown",
      "metadata": {
        "id": "FMJtYCp5qk6D"
      },
      "source": [
        "#### Пример проблемы\n",
        "\n",
        "У вас есть приложение с версией python и зависимостями, несовместимое с имеющимся окружением python на сервере (еще может быть такое, что установка дополнительных библиотек строго регулируется правилами безопасности). Но у вас задача - запустить копию приложения на сервере (например, для тестирования)\n",
        "\n",
        "\n",
        "#### Решение\n",
        "\n",
        "Используем один из множества доступных docker-образов и запускаем изолированное окружение, называемое контейнером"
      ]
    },
    {
      "cell_type": "markdown",
      "metadata": {
        "id": "1sEsYFGGqk6D"
      },
      "source": [
        "#### Почему это вообще работает?"
      ]
    },
    {
      "cell_type": "markdown",
      "metadata": {
        "id": "rONJ5I__qk6E"
      },
      "source": [
        "![docker](docker_1.png \"DOCKER\")"
      ]
    },
    {
      "cell_type": "markdown",
      "metadata": {
        "id": "b6lFZ2bUqk6E"
      },
      "source": [
        "- Docker host - сервер, на котором запущен docker\n",
        "- Docker conrainer - изолированное окружение\n",
        "- в контейнере нет своей ОС, но есть копия таблицы процессов, портов и точек монтирования ОС докер-хоста\n",
        "- Ядро ОС хоста делится между всеми контейнерами\n",
        "\n",
        "Получаем виртуализацию на уровне ОС, а не hardware"
      ]
    },
    {
      "cell_type": "markdown",
      "metadata": {
        "id": "wnwGHu1iqk6F"
      },
      "source": [
        "### Компоненты docker"
      ]
    },
    {
      "cell_type": "markdown",
      "metadata": {
        "id": "aJTMWF3Yqk6F"
      },
      "source": [
        "![docker2](docker_2.png \"DOCKER2\")"
      ]
    },
    {
      "cell_type": "markdown",
      "metadata": {
        "id": "xz0UNp7Qqk6G"
      },
      "source": [
        "Сервер:\n",
        "- запускает демон под названием dockerd (Docker Daemon), являющийся просто процессом. Он отвечает за создание и управление образами Docker, контейнерами, сетями томами платформы Docker.\n",
        "\n",
        "REST API:\n",
        "- определяет, каким образом приложения могут взаимодействовать с сервером и указывает им, как они должны работать.\n",
        "\n",
        "Клиент:\n",
        "- интерфейс командной строки, позволяющий пользователям взаимодействовать с Docker при помощи команд."
      ]
    },
    {
      "cell_type": "code",
      "execution_count": null,
      "metadata": {
        "id": "4J7eycgkqk6H"
      },
      "outputs": [],
      "source": []
    }
  ],
  "metadata": {
    "kernelspec": {
      "display_name": "Python 3",
      "language": "python",
      "name": "python3"
    },
    "language_info": {
      "codemirror_mode": {
        "name": "ipython",
        "version": 3
      },
      "file_extension": ".py",
      "mimetype": "text/x-python",
      "name": "python",
      "nbconvert_exporter": "python",
      "pygments_lexer": "ipython3",
      "version": "3.7.3"
    },
    "colab": {
      "provenance": []
    }
  },
  "nbformat": 4,
  "nbformat_minor": 0
}